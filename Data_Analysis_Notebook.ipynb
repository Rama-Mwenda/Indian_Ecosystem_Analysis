{
 "cells": [
  {
   "cell_type": "markdown",
   "id": "f0136d6e-87bd-4896-9e8e-c879f010ab38",
   "metadata": {},
   "source": [
    "# **INDIAN STARTUP ECOSYSTEM ANALYSIS**"
   ]
  },
  {
   "cell_type": "markdown",
   "id": "6a4ad987",
   "metadata": {},
   "source": [
    "## **Business Understanding**\n",
    "\n",
    "The Indian startup ecosystem has experienced significant growth and evolution from 2018 to 2021, emerging as one of the fastest-growing and dynamic startup ecosystems globally. During this period, several trends and developments have shaped the landscape, contributing to the rise of innovative startups across various sectors. The Indian startup ecosystem showcased resilience, innovation, and dynamism, positioning India as a leading destination for entrepreneurship, investment, and technological innovation on the global stage."
   ]
  },
  {
   "cell_type": "markdown",
   "id": "e792f8f9",
   "metadata": {},
   "source": [
    "#### **Objective:**\n",
    "In this project, we will analyse the Indian start-up ecosystem from year 2018 to 2021 to identify investment opportunities."
   ]
  },
  {
   "cell_type": "markdown",
   "id": "08484517",
   "metadata": {},
   "source": []
  },
  {
   "cell_type": "markdown",
   "id": "dbf548b3",
   "metadata": {},
   "source": [
    "## **Data Understanding**"
   ]
  },
  {
   "cell_type": "markdown",
   "id": "419f4fc2",
   "metadata": {},
   "source": []
  }
 ],
 "metadata": {
  "kernelspec": {
   "display_name": "Python 3 (ipykernel)",
   "language": "python",
   "name": "python3"
  },
  "language_info": {
   "codemirror_mode": {
    "name": "ipython",
    "version": 3
   },
   "file_extension": ".py",
   "mimetype": "text/x-python",
   "name": "python",
   "nbconvert_exporter": "python",
   "pygments_lexer": "ipython3",
   "version": "3.11.3"
  }
 },
 "nbformat": 4,
 "nbformat_minor": 5
}
