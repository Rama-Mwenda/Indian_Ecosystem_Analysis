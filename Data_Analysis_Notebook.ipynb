{
 "cells": [
  {
   "cell_type": "markdown",
   "id": "f0136d6e-87bd-4896-9e8e-c879f010ab38",
   "metadata": {},
   "source": [
    "# **INDIAN STARTUP ECOSYSTEM ANALYSIS**"
   ]
  },
  {
   "cell_type": "code",
   "execution_count": null,
   "id": "edcc4af8-7b50-4508-92e0-b41ce457d62c",
   "metadata": {},
   "outputs": [],
   "source": []
  }
 ],
 "metadata": {
  "kernelspec": {
   "display_name": "Python 3 (ipykernel)",
   "language": "python",
   "name": "python3"
  },
  "language_info": {
   "codemirror_mode": {
    "name": "ipython",
    "version": 3
   },
   "file_extension": ".py",
   "mimetype": "text/x-python",
   "name": "python",
   "nbconvert_exporter": "python",
   "pygments_lexer": "ipython3",
   "version": "3.11.3"
  }
 },
 "nbformat": 4,
 "nbformat_minor": 5
}
