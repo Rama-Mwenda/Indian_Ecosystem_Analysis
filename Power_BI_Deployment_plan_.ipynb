{
  "cells": [
    {
      "attachments": {},
      "cell_type": "markdown",
      "metadata": {
        "id": "ZhhZ2xDoKwKC"
      },
      "source": [
        "\n",
        "### Deployment Plan:\n",
        "\n",
        "#### 1. Data Cleaning and Preparation in VS Code:\n",
        "   - Clean and prepare the dataset in Python using libraries such as pandas for data manipulation and cleaning.\n",
        "   - Ensure that the dataset is in a structured format suitable for analysis in Power BI.\n",
        "   - Save the cleaned dataset in a compatible format such as CSV or Excel.\n",
        "\n",
        "#### 2. Data Transfer to Power BI:\n",
        "   - Open Power BI Desktop.\n",
        "   - Click on \"Get Data\" and select the appropriate data source (e.g., CSV file).\n",
        "   - Navigate to the location where the cleaned dataset is saved and import it into Power BI.\n",
        "\n",
        "#### 3. Data Transformation and Modeling in Power BI:\n",
        "   - Create calculated columns and measures to calculate key metrics such as total funding received, number of startups founded, etc.\n",
        "   - Use Power Query Editor in Power BI to transform the data as needed for analysis.\n",
        "   - Define relationships between tables if necessary to create a data model.\n",
        "   \n",
        "#### 4. Answering the Questions in Power BI:\n",
        "\n",
        "##### 1. Total Value of the Indian Startup Ecosystem:\n",
        "   - Calculate the total funding received using a measure.\n",
        "   - Visualize the total funding received using a metric visualization such as a card.\n",
        "\n",
        "##### 2. Ecosystem Changes Over Time:\n",
        "   - Calculate year-on-year funding growth using measures.\n",
        "   - Visualize year-on-year funding growth using a line chart.\n",
        "   - Use a map visualization to highlight regional performance comparison by funding distribution.\n",
        "\n",
        "##### 3. Success Rate of Startups:\n",
        "   - Calculate the number of unicorns using measures and filters.\n",
        "   - Visualize the number of unicorns using a metric visualization such as a card.\n",
        "   - Use a donut chart to visualize unicorn distribution by industry.\n",
        "\n",
        "##### 4. Participants in the Ecosystem:\n",
        "   - Calculate the number of active companies using measures.\n",
        "   - Visualize the number of active companies using a metric visualization.\n",
        "   - Use a stacked bar chart to visualize industry distribution.\n",
        "\n",
        "##### 5. Best Performing Sectors:\n",
        "   - Calculate the sector with the highest funding and most startups using measures.\n",
        "   - Visualize the sector with the highest funding using a bar chart.\n",
        "   - Visualize the sector with the most startups using another bar chart.\n",
        "\n",
        "#### 5. Additional Insights:\n",
        "   - Utilize Power BI's capabilities to provide additional insights such as top 5 startup ecosystems comparison, investment recommendations, risk assessment, and exit opportunities.\n",
        "   - Create relevant visualizations and analyses to address these insights.\n",
        "\n",
        "#### 6. Testing and Refinement:\n",
        "   - Test the Power BI dashboard thoroughly to ensure accuracy and functionality.\n",
        "   \n",
        "#### 7. Pushing the Final Product to GitHub:\n",
        "   - Once the Power BI project is finalized, save the Power BI (.pbix) file.\n",
        "   - Create a new repository on GitHub to host the Power BI project.\n",
        "   - Add the Power BI file and any related documentation to the repository.\n",
        "   - Commit the changes and push them to the GitHub repository.\n",
        "\n",
        "#### 8. Deployment and Distribution:\n",
        "   - Publish the Power BI dashboard to the Power BI service or on-premises Power BI Report Server.\n",
        "   - Configure security settings and access permissions as needed.\n",
        "   - Share the dashboard with stakeholders and provide instructions for accessing and interacting with it.\n",
        "\n"
      ]
    },
    {
      "attachments": {},
      "cell_type": "markdown",
      "metadata": {
        "id": "EXnrwzqUMGWX"
      },
      "source": [
        "**Implementation Tips:**\n",
        "\n",
        "\n",
        "*   Utilize Dax expressions to create measures for calculations\n",
        "*   use silcers and filters for interactivity and dynamic analysis\n",
        "*   Ensure visualizations are clear, informative and visually appealing\n",
        "*   Test the dashboard thorougly and get feedback from team members for\n",
        "    refinement.    \n"
      ]
    },
    {
      "cell_type": "code",
      "execution_count": 6,
      "metadata": {
        "colab": {
          "base_uri": "https://localhost:8080/"
        },
        "id": "iemwUQGgM915",
        "outputId": "f44f163b-5e95-4a32-bdc2-cce0f73267f8"
      },
      "outputs": [
        {
          "name": "stdout",
          "output_type": "stream",
          "text": [
            "Cloning into 'Indian_Ecosystem_Analysis'...\n",
            "remote: Enumerating objects: 27227, done.\u001b[K\n",
            "remote: Counting objects: 100% (1840/1840), done.\u001b[K\n",
            "remote: Compressing objects: 100% (1737/1737), done.\u001b[K\n",
            "remote: Total 27227 (delta 126), reused 1611 (delta 100), pack-reused 25387\u001b[K\n",
            "Receiving objects: 100% (27227/27227), 177.10 MiB | 18.81 MiB/s, done.\n",
            "Resolving deltas: 100% (5175/5175), done.\n"
          ]
        }
      ],
      "source": [
        "!git clone https://github.com/Rama-Mwenda/Indian_Ecosystem_Analysis.git\n"
      ]
    },
    {
      "cell_type": "code",
      "execution_count": 8,
      "metadata": {
        "colab": {
          "base_uri": "https://localhost:8080/"
        },
        "id": "ZjIaKOVGO9rf",
        "outputId": "75981637-6753-4d3a-aaa1-c65d2e5127da"
      },
      "outputs": [
        {
          "name": "stdout",
          "output_type": "stream",
          "text": [
            "/content/Indian_Ecosystem_Analysis\n"
          ]
        }
      ],
      "source": [
        "%cd Indian_Ecosystem_Analysis\n",
        "\n"
      ]
    },
    {
      "cell_type": "code",
      "execution_count": 10,
      "metadata": {
        "id": "N8gKduQqQFIw"
      },
      "outputs": [],
      "source": [
        "!git config --global user.email \"snthai.nthai@gmail.com\"\n",
        "!git config --global user.name \"shandu22\"\n"
      ]
    },
    {
      "cell_type": "code",
      "execution_count": 12,
      "metadata": {
        "colab": {
          "base_uri": "https://localhost:8080/"
        },
        "id": "ex4OT3NBQbMx",
        "outputId": "93602f2b-95d9-49d7-8c9e-6afe2a764863"
      },
      "outputs": [
        {
          "name": "stdout",
          "output_type": "stream",
          "text": [
            "Switched to a new branch 'Power-BI-deployment-plan'\n"
          ]
        }
      ],
      "source": [
        "!git checkout -b Power-BI-deployment-plan\n"
      ]
    },
    {
      "cell_type": "code",
      "execution_count": 14,
      "metadata": {
        "colab": {
          "base_uri": "https://localhost:8080/"
        },
        "id": "kUxUM_kXQiY-",
        "outputId": "c2c4caf5-e5a6-4b3a-be4d-9e011fd5ea6e"
      },
      "outputs": [
        {
          "name": "stdout",
          "output_type": "stream",
          "text": [
            "On branch Power-BI-deployment-plan\n",
            "nothing to commit, working tree clean\n",
            "fatal: could not read Username for 'https://github.com': No such device or address\n"
          ]
        }
      ],
      "source": [
        "!git add .\n",
        "!git commit -m \"Please see the updated power bi deployment plan\"\n",
        "!git push origin Power-BI-deployment-plan\n"
      ]
    },
    {
      "cell_type": "code",
      "execution_count": 15,
      "metadata": {
        "id": "BU4rNdhhQ2_A"
      },
      "outputs": [],
      "source": [
        "!git config --global credential.helper store\n"
      ]
    }
  ],
  "metadata": {
    "colab": {
      "provenance": []
    },
    "kernelspec": {
      "display_name": "Python 3",
      "name": "python3"
    },
    "language_info": {
      "name": "python"
    }
  },
  "nbformat": 4,
  "nbformat_minor": 0
}
